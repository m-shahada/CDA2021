{
  "nbformat": 4,
  "nbformat_minor": 0,
  "metadata": {
    "colab": {
      "name": "Shahada _Session_3_Regularization_and_Poly_regression_EXERCISE.ipynb",
      "provenance": [],
      "collapsed_sections": [],
      "include_colab_link": true
    },
    "kernelspec": {
      "name": "python3",
      "display_name": "Python 3"
    }
  },
  "cells": [
    {
      "cell_type": "markdown",
      "metadata": {
        "id": "view-in-github",
        "colab_type": "text"
      },
      "source": [
        "<a href=\"https://colab.research.google.com/github/m-shahada/CDA2021/blob/main/Shahada__Session_3_Regularization_and_Poly_regression_EXERCISE.ipynb\" target=\"_parent\"><img src=\"https://colab.research.google.com/assets/colab-badge.svg\" alt=\"Open In Colab\"/></a>"
      ]
    },
    {
      "cell_type": "markdown",
      "metadata": {
        "id": "T_U6YCp9QD33"
      },
      "source": [
        "\n",
        "![BTS](https://github.com/vfp1/bts-dsf-2020/raw/main/Logo-BTS.jpg)\n",
        "\n",
        "# Session 3: Logistic Regression EXERCISE\n",
        "\n",
        "### Victor F. Pajuelo Madrigal <victor.pajuelo@bts.tech> - Classical Data Analysis (2020-12-21)\n",
        "\n",
        "Open this notebook in Google Colaboratory: [![Open in Colab](https://colab.research.google.com/assets/colab-badge.svg)](https://colab.research.google.com/github/vfp1/bts-cda-2020/blob/main/Session_3/Session_3_Regularization_and_Poly_regression_EXERCISE.ipynb)\n",
        "\n",
        "**Resources:**\n",
        "* Auréliene Géron, Hands On ML with SKlearn, Keras and TF"
      ]
    },
    {
      "cell_type": "markdown",
      "metadata": {
        "id": "47cNdF6xP5eF"
      },
      "source": [
        "# Regression with regularization"
      ]
    },
    {
      "cell_type": "markdown",
      "metadata": {
        "id": "I-2OcibZP5eH"
      },
      "source": [
        "#### We will using the Boston Housing Dataset available in sklearn and we will extend it with  5 additional features of random noise to test each algorithm’s ability to filter out irrelevant information:\n",
        "\n",
        "- **Examine the results of applying Linear Regression, Lasso Regression, Ridge Regression and Elastic Net on the features scores**\n",
        "- **Try to modify the hyperparameters lambda and describe how it affects the parmeter scores**\n",
        "\n",
        "This is the very same exercise that we did in class, try to go in depth into the tradeoffs of lambda (alpha) and others"
      ]
    },
    {
      "cell_type": "markdown",
      "metadata": {
        "id": "oGLVXZSyP5eH"
      },
      "source": [
        "### Import libraries and dataset from sklearn"
      ]
    },
    {
      "cell_type": "code",
      "metadata": {
        "id": "YfgiMb3fP5eI",
        "colab": {
          "base_uri": "https://localhost:8080/",
          "height": 197
        },
        "outputId": "6dd3a70d-2fe7-4da8-9872-7420cfe2a812"
      },
      "source": [
        "import matplotlib.pyplot as plt\n",
        "import numpy as np \n",
        "import pandas as pd\n",
        "import matplotlib\n",
        "matplotlib.rcParams.update({'font.size': 12})\n",
        "from sklearn.datasets import load_boston\n",
        "from sklearn.model_selection import train_test_split\n",
        "from sklearn.linear_model import LinearRegression\n",
        "from sklearn.linear_model import Ridge\n",
        "from sklearn import metrics\n",
        "from sklearn.metrics import mean_squared_error\n",
        "\n",
        "boston=load_boston()\n",
        "boston_df=pd.DataFrame(boston.data,columns=boston.feature_names)\n",
        "\n",
        "boston_df.head()"
      ],
      "execution_count": 13,
      "outputs": [
        {
          "output_type": "execute_result",
          "data": {
            "text/html": [
              "<div>\n",
              "<style scoped>\n",
              "    .dataframe tbody tr th:only-of-type {\n",
              "        vertical-align: middle;\n",
              "    }\n",
              "\n",
              "    .dataframe tbody tr th {\n",
              "        vertical-align: top;\n",
              "    }\n",
              "\n",
              "    .dataframe thead th {\n",
              "        text-align: right;\n",
              "    }\n",
              "</style>\n",
              "<table border=\"1\" class=\"dataframe\">\n",
              "  <thead>\n",
              "    <tr style=\"text-align: right;\">\n",
              "      <th></th>\n",
              "      <th>CRIM</th>\n",
              "      <th>ZN</th>\n",
              "      <th>INDUS</th>\n",
              "      <th>CHAS</th>\n",
              "      <th>NOX</th>\n",
              "      <th>RM</th>\n",
              "      <th>AGE</th>\n",
              "      <th>DIS</th>\n",
              "      <th>RAD</th>\n",
              "      <th>TAX</th>\n",
              "      <th>PTRATIO</th>\n",
              "      <th>B</th>\n",
              "      <th>LSTAT</th>\n",
              "    </tr>\n",
              "  </thead>\n",
              "  <tbody>\n",
              "    <tr>\n",
              "      <th>0</th>\n",
              "      <td>0.00632</td>\n",
              "      <td>18.0</td>\n",
              "      <td>2.31</td>\n",
              "      <td>0.0</td>\n",
              "      <td>0.538</td>\n",
              "      <td>6.575</td>\n",
              "      <td>65.2</td>\n",
              "      <td>4.0900</td>\n",
              "      <td>1.0</td>\n",
              "      <td>296.0</td>\n",
              "      <td>15.3</td>\n",
              "      <td>396.90</td>\n",
              "      <td>4.98</td>\n",
              "    </tr>\n",
              "    <tr>\n",
              "      <th>1</th>\n",
              "      <td>0.02731</td>\n",
              "      <td>0.0</td>\n",
              "      <td>7.07</td>\n",
              "      <td>0.0</td>\n",
              "      <td>0.469</td>\n",
              "      <td>6.421</td>\n",
              "      <td>78.9</td>\n",
              "      <td>4.9671</td>\n",
              "      <td>2.0</td>\n",
              "      <td>242.0</td>\n",
              "      <td>17.8</td>\n",
              "      <td>396.90</td>\n",
              "      <td>9.14</td>\n",
              "    </tr>\n",
              "    <tr>\n",
              "      <th>2</th>\n",
              "      <td>0.02729</td>\n",
              "      <td>0.0</td>\n",
              "      <td>7.07</td>\n",
              "      <td>0.0</td>\n",
              "      <td>0.469</td>\n",
              "      <td>7.185</td>\n",
              "      <td>61.1</td>\n",
              "      <td>4.9671</td>\n",
              "      <td>2.0</td>\n",
              "      <td>242.0</td>\n",
              "      <td>17.8</td>\n",
              "      <td>392.83</td>\n",
              "      <td>4.03</td>\n",
              "    </tr>\n",
              "    <tr>\n",
              "      <th>3</th>\n",
              "      <td>0.03237</td>\n",
              "      <td>0.0</td>\n",
              "      <td>2.18</td>\n",
              "      <td>0.0</td>\n",
              "      <td>0.458</td>\n",
              "      <td>6.998</td>\n",
              "      <td>45.8</td>\n",
              "      <td>6.0622</td>\n",
              "      <td>3.0</td>\n",
              "      <td>222.0</td>\n",
              "      <td>18.7</td>\n",
              "      <td>394.63</td>\n",
              "      <td>2.94</td>\n",
              "    </tr>\n",
              "    <tr>\n",
              "      <th>4</th>\n",
              "      <td>0.06905</td>\n",
              "      <td>0.0</td>\n",
              "      <td>2.18</td>\n",
              "      <td>0.0</td>\n",
              "      <td>0.458</td>\n",
              "      <td>7.147</td>\n",
              "      <td>54.2</td>\n",
              "      <td>6.0622</td>\n",
              "      <td>3.0</td>\n",
              "      <td>222.0</td>\n",
              "      <td>18.7</td>\n",
              "      <td>396.90</td>\n",
              "      <td>5.33</td>\n",
              "    </tr>\n",
              "  </tbody>\n",
              "</table>\n",
              "</div>"
            ],
            "text/plain": [
              "      CRIM    ZN  INDUS  CHAS    NOX  ...  RAD    TAX  PTRATIO       B  LSTAT\n",
              "0  0.00632  18.0   2.31   0.0  0.538  ...  1.0  296.0     15.3  396.90   4.98\n",
              "1  0.02731   0.0   7.07   0.0  0.469  ...  2.0  242.0     17.8  396.90   9.14\n",
              "2  0.02729   0.0   7.07   0.0  0.469  ...  2.0  242.0     17.8  392.83   4.03\n",
              "3  0.03237   0.0   2.18   0.0  0.458  ...  3.0  222.0     18.7  394.63   2.94\n",
              "4  0.06905   0.0   2.18   0.0  0.458  ...  3.0  222.0     18.7  396.90   5.33\n",
              "\n",
              "[5 rows x 13 columns]"
            ]
          },
          "metadata": {
            "tags": []
          },
          "execution_count": 13
        }
      ]
    },
    {
      "cell_type": "code",
      "metadata": {
        "id": "kAFzeugPP5eJ"
      },
      "source": [
        ""
      ],
      "execution_count": 13,
      "outputs": []
    },
    {
      "cell_type": "markdown",
      "metadata": {
        "id": "W7fJX1LuP5eK"
      },
      "source": [
        "### Add Noise to original dataset"
      ]
    },
    {
      "cell_type": "code",
      "metadata": {
        "id": "kOCkhsAZP5eK"
      },
      "source": [
        "n_houses = boston_df.shape[0]\n",
        "rand_noise = np.random.rand(n_houses, 5)\n",
        "\n",
        "rand_noise_df = pd.DataFrame(data=rand_noise, columns=['Noise_1', 'Noise_2', 'Noise_3', 'Noise_4', 'Noise_5'])\n",
        "X = pd.concat([boston_df, rand_noise_df], axis=1)\n",
        "y = boston['target']\n"
      ],
      "execution_count": 14,
      "outputs": []
    },
    {
      "cell_type": "code",
      "metadata": {
        "id": "cG1PjrYhP5eK",
        "colab": {
          "base_uri": "https://localhost:8080/",
          "height": 197
        },
        "outputId": "901b969a-cfa2-4f30-e22a-29e49edcab1e"
      },
      "source": [
        "X.head()"
      ],
      "execution_count": 15,
      "outputs": [
        {
          "output_type": "execute_result",
          "data": {
            "text/html": [
              "<div>\n",
              "<style scoped>\n",
              "    .dataframe tbody tr th:only-of-type {\n",
              "        vertical-align: middle;\n",
              "    }\n",
              "\n",
              "    .dataframe tbody tr th {\n",
              "        vertical-align: top;\n",
              "    }\n",
              "\n",
              "    .dataframe thead th {\n",
              "        text-align: right;\n",
              "    }\n",
              "</style>\n",
              "<table border=\"1\" class=\"dataframe\">\n",
              "  <thead>\n",
              "    <tr style=\"text-align: right;\">\n",
              "      <th></th>\n",
              "      <th>CRIM</th>\n",
              "      <th>ZN</th>\n",
              "      <th>INDUS</th>\n",
              "      <th>CHAS</th>\n",
              "      <th>NOX</th>\n",
              "      <th>RM</th>\n",
              "      <th>AGE</th>\n",
              "      <th>DIS</th>\n",
              "      <th>RAD</th>\n",
              "      <th>TAX</th>\n",
              "      <th>PTRATIO</th>\n",
              "      <th>B</th>\n",
              "      <th>LSTAT</th>\n",
              "      <th>Noise_1</th>\n",
              "      <th>Noise_2</th>\n",
              "      <th>Noise_3</th>\n",
              "      <th>Noise_4</th>\n",
              "      <th>Noise_5</th>\n",
              "    </tr>\n",
              "  </thead>\n",
              "  <tbody>\n",
              "    <tr>\n",
              "      <th>0</th>\n",
              "      <td>0.00632</td>\n",
              "      <td>18.0</td>\n",
              "      <td>2.31</td>\n",
              "      <td>0.0</td>\n",
              "      <td>0.538</td>\n",
              "      <td>6.575</td>\n",
              "      <td>65.2</td>\n",
              "      <td>4.0900</td>\n",
              "      <td>1.0</td>\n",
              "      <td>296.0</td>\n",
              "      <td>15.3</td>\n",
              "      <td>396.90</td>\n",
              "      <td>4.98</td>\n",
              "      <td>0.692158</td>\n",
              "      <td>0.752035</td>\n",
              "      <td>0.327541</td>\n",
              "      <td>0.467932</td>\n",
              "      <td>0.867511</td>\n",
              "    </tr>\n",
              "    <tr>\n",
              "      <th>1</th>\n",
              "      <td>0.02731</td>\n",
              "      <td>0.0</td>\n",
              "      <td>7.07</td>\n",
              "      <td>0.0</td>\n",
              "      <td>0.469</td>\n",
              "      <td>6.421</td>\n",
              "      <td>78.9</td>\n",
              "      <td>4.9671</td>\n",
              "      <td>2.0</td>\n",
              "      <td>242.0</td>\n",
              "      <td>17.8</td>\n",
              "      <td>396.90</td>\n",
              "      <td>9.14</td>\n",
              "      <td>0.758561</td>\n",
              "      <td>0.741231</td>\n",
              "      <td>0.387436</td>\n",
              "      <td>0.283662</td>\n",
              "      <td>0.660231</td>\n",
              "    </tr>\n",
              "    <tr>\n",
              "      <th>2</th>\n",
              "      <td>0.02729</td>\n",
              "      <td>0.0</td>\n",
              "      <td>7.07</td>\n",
              "      <td>0.0</td>\n",
              "      <td>0.469</td>\n",
              "      <td>7.185</td>\n",
              "      <td>61.1</td>\n",
              "      <td>4.9671</td>\n",
              "      <td>2.0</td>\n",
              "      <td>242.0</td>\n",
              "      <td>17.8</td>\n",
              "      <td>392.83</td>\n",
              "      <td>4.03</td>\n",
              "      <td>0.470300</td>\n",
              "      <td>0.835233</td>\n",
              "      <td>0.139022</td>\n",
              "      <td>0.189077</td>\n",
              "      <td>0.573615</td>\n",
              "    </tr>\n",
              "    <tr>\n",
              "      <th>3</th>\n",
              "      <td>0.03237</td>\n",
              "      <td>0.0</td>\n",
              "      <td>2.18</td>\n",
              "      <td>0.0</td>\n",
              "      <td>0.458</td>\n",
              "      <td>6.998</td>\n",
              "      <td>45.8</td>\n",
              "      <td>6.0622</td>\n",
              "      <td>3.0</td>\n",
              "      <td>222.0</td>\n",
              "      <td>18.7</td>\n",
              "      <td>394.63</td>\n",
              "      <td>2.94</td>\n",
              "      <td>0.182448</td>\n",
              "      <td>0.760803</td>\n",
              "      <td>0.348957</td>\n",
              "      <td>0.302990</td>\n",
              "      <td>0.177520</td>\n",
              "    </tr>\n",
              "    <tr>\n",
              "      <th>4</th>\n",
              "      <td>0.06905</td>\n",
              "      <td>0.0</td>\n",
              "      <td>2.18</td>\n",
              "      <td>0.0</td>\n",
              "      <td>0.458</td>\n",
              "      <td>7.147</td>\n",
              "      <td>54.2</td>\n",
              "      <td>6.0622</td>\n",
              "      <td>3.0</td>\n",
              "      <td>222.0</td>\n",
              "      <td>18.7</td>\n",
              "      <td>396.90</td>\n",
              "      <td>5.33</td>\n",
              "      <td>0.107456</td>\n",
              "      <td>0.837439</td>\n",
              "      <td>0.337943</td>\n",
              "      <td>0.494519</td>\n",
              "      <td>0.892779</td>\n",
              "    </tr>\n",
              "  </tbody>\n",
              "</table>\n",
              "</div>"
            ],
            "text/plain": [
              "      CRIM    ZN  INDUS  CHAS  ...   Noise_2   Noise_3   Noise_4   Noise_5\n",
              "0  0.00632  18.0   2.31   0.0  ...  0.752035  0.327541  0.467932  0.867511\n",
              "1  0.02731   0.0   7.07   0.0  ...  0.741231  0.387436  0.283662  0.660231\n",
              "2  0.02729   0.0   7.07   0.0  ...  0.835233  0.139022  0.189077  0.573615\n",
              "3  0.03237   0.0   2.18   0.0  ...  0.760803  0.348957  0.302990  0.177520\n",
              "4  0.06905   0.0   2.18   0.0  ...  0.837439  0.337943  0.494519  0.892779\n",
              "\n",
              "[5 rows x 18 columns]"
            ]
          },
          "metadata": {
            "tags": []
          },
          "execution_count": 15
        }
      ]
    },
    {
      "cell_type": "code",
      "metadata": {
        "id": "wfKjAvf4P5eL",
        "colab": {
          "base_uri": "https://localhost:8080/"
        },
        "outputId": "d43421c7-8bb9-4d7b-a59a-3fa49d7c982b"
      },
      "source": [
        "y[0:5]"
      ],
      "execution_count": 16,
      "outputs": [
        {
          "output_type": "execute_result",
          "data": {
            "text/plain": [
              "array([24. , 21.6, 34.7, 33.4, 36.2])"
            ]
          },
          "metadata": {
            "tags": []
          },
          "execution_count": 16
        }
      ]
    },
    {
      "cell_type": "markdown",
      "metadata": {
        "id": "hx6KUx1kP5eL"
      },
      "source": [
        "### Implement classical linear regression, Lasso, Ridge and ElasticNet (use the default parameter of sklearn) and describe how the scores of the features change"
      ]
    },
    {
      "cell_type": "code",
      "metadata": {
        "id": "YWVwV1sHP5eM"
      },
      "source": [
        "from sklearn.linear_model import LinearRegression, Lasso, Ridge, ElasticNet\n",
        "\n",
        "\n",
        "boston_lr = LinearRegression()\n",
        "boston_ls = Lasso()\n",
        "boston_rg = Ridge(alpha=10)\n",
        "boston_en = ElasticNet()\n",
        "models = [(boston_lr, 'Linear Regression'),\n",
        "           (boston_ls, 'Lasso'),\n",
        "           (boston_rg, \"Ridge Regression\"),\n",
        "           (boston_en, \"Elastic Net\")]"
      ],
      "execution_count": 17,
      "outputs": []
    },
    {
      "cell_type": "markdown",
      "metadata": {
        "id": "Vp3_wR5CP5eM"
      },
      "source": [
        "##### NORMALIZE DATA USING THE ```StandardScaler``` PROVIDED BY sklearn"
      ]
    },
    {
      "cell_type": "code",
      "metadata": {
        "id": "Ftfk1EaAP5eM"
      },
      "source": [
        "from sklearn.preprocessing import StandardScaler\n",
        "\n",
        "boston_ss = StandardScaler()\n",
        "X_scaled = boston_ss.fit_transform(X=X)\n",
        "\n",
        "X_train, X_test, y_train, y_test = train_test_split(X_scaled, y, test_size=0.25, random_state=235)"
      ],
      "execution_count": 18,
      "outputs": []
    },
    {
      "cell_type": "code",
      "metadata": {
        "id": "TT98zyGHP5eN",
        "colab": {
          "base_uri": "https://localhost:8080/",
          "height": 1000
        },
        "outputId": "1e94410c-e1dc-41e1-bc34-4aa4d9ba346d"
      },
      "source": [
        "## FITTING OF THE MODELS AND RESULTS\n",
        "\n",
        "# PUT YOUR CODE HERE\n",
        "\n",
        "df = pd.DataFrame()\n",
        "df['Feature Name'] = X.columns\n",
        "for model in models:\n",
        "    model[0].fit(X_train, y_train)\n",
        "    pd.Series(model[0].coef_, \n",
        "              index=X.columns).plot(kind='barh')\n",
        "    plt.title(model[1])\n",
        "    plt.xlabel('Coefficient Value')\n",
        "    plt.ylabel('Feature Name')\n",
        "    plt.show()\n",
        "    # Create a column name for that reflects the name of the model\n",
        "    column_name = model[1]\n",
        "\n",
        "    # Create a column of coefficient values\n",
        "    df[column_name] = model[0].coef_\n",
        "\n",
        "df"
      ],
      "execution_count": 19,
      "outputs": [
        {
          "output_type": "display_data",
          "data": {
            "image/png": "[encoded data removed]",
            "text/plain": [
              "<Figure size 432x288 with 1 Axes>"
            ]
          },
          "metadata": {
            "tags": [],
            "needs_background": "light"
          }
        },
        {
          "output_type": "display_data",
          "data": {
            "image/png": "[encoded data removed]",
            "text/plain": [
              "<Figure size 432x288 with 1 Axes>"
            ]
          },
          "metadata": {
            "tags": [],
            "needs_background": "light"
          }
        },
        {
          "output_type": "display_data",
          "data": {
            "image/png": "[encoded data removed]",
            "text/plain": [
              "<Figure size 432x288 with 1 Axes>"
            ]
          },
          "metadata": {
            "tags": [],
            "needs_background": "light"
          }
        },
        {
          "output_type": "display_data",
          "data": {
            "image/png": "[encoded data removed]",
            "text/plain": [
              "<Figure size 432x288 with 1 Axes>"
            ]
          },
          "metadata": {
            "tags": [],
            "needs_background": "light"
          }
        },
        {
          "output_type": "execute_result",
          "data": {
            "text/html": [
              "<div>\n",
              "<style scoped>\n",
              "    .dataframe tbody tr th:only-of-type {\n",
              "        vertical-align: middle;\n",
              "    }\n",
              "\n",
              "    .dataframe tbody tr th {\n",
              "        vertical-align: top;\n",
              "    }\n",
              "\n",
              "    .dataframe thead th {\n",
              "        text-align: right;\n",
              "    }\n",
              "</style>\n",
              "<table border=\"1\" class=\"dataframe\">\n",
              "  <thead>\n",
              "    <tr style=\"text-align: right;\">\n",
              "      <th></th>\n",
              "      <th>Feature Name</th>\n",
              "      <th>Linear Regression</th>\n",
              "      <th>Lasso</th>\n",
              "      <th>Ridge Regression</th>\n",
              "      <th>Elastic Net</th>\n",
              "    </tr>\n",
              "  </thead>\n",
              "  <tbody>\n",
              "    <tr>\n",
              "      <th>0</th>\n",
              "      <td>CRIM</td>\n",
              "      <td>-0.181864</td>\n",
              "      <td>-0.000000</td>\n",
              "      <td>-0.143707</td>\n",
              "      <td>-0.000000</td>\n",
              "    </tr>\n",
              "    <tr>\n",
              "      <th>1</th>\n",
              "      <td>ZN</td>\n",
              "      <td>0.719758</td>\n",
              "      <td>0.000000</td>\n",
              "      <td>0.601999</td>\n",
              "      <td>0.000000</td>\n",
              "    </tr>\n",
              "    <tr>\n",
              "      <th>2</th>\n",
              "      <td>INDUS</td>\n",
              "      <td>0.182400</td>\n",
              "      <td>-0.000000</td>\n",
              "      <td>0.010853</td>\n",
              "      <td>-0.112192</td>\n",
              "    </tr>\n",
              "    <tr>\n",
              "      <th>3</th>\n",
              "      <td>CHAS</td>\n",
              "      <td>0.991375</td>\n",
              "      <td>0.340719</td>\n",
              "      <td>1.013653</td>\n",
              "      <td>0.635905</td>\n",
              "    </tr>\n",
              "    <tr>\n",
              "      <th>4</th>\n",
              "      <td>NOX</td>\n",
              "      <td>-1.983335</td>\n",
              "      <td>-0.000000</td>\n",
              "      <td>-1.670097</td>\n",
              "      <td>-0.202282</td>\n",
              "    </tr>\n",
              "    <tr>\n",
              "      <th>5</th>\n",
              "      <td>RM</td>\n",
              "      <td>2.939940</td>\n",
              "      <td>3.075163</td>\n",
              "      <td>3.031790</td>\n",
              "      <td>2.618869</td>\n",
              "    </tr>\n",
              "    <tr>\n",
              "      <th>6</th>\n",
              "      <td>AGE</td>\n",
              "      <td>0.290853</td>\n",
              "      <td>-0.000000</td>\n",
              "      <td>0.181255</td>\n",
              "      <td>-0.000000</td>\n",
              "    </tr>\n",
              "    <tr>\n",
              "      <th>7</th>\n",
              "      <td>DIS</td>\n",
              "      <td>-2.752313</td>\n",
              "      <td>-0.000000</td>\n",
              "      <td>-2.490647</td>\n",
              "      <td>-0.014043</td>\n",
              "    </tr>\n",
              "    <tr>\n",
              "      <th>8</th>\n",
              "      <td>RAD</td>\n",
              "      <td>2.191674</td>\n",
              "      <td>-0.000000</td>\n",
              "      <td>1.632138</td>\n",
              "      <td>-0.000000</td>\n",
              "    </tr>\n",
              "    <tr>\n",
              "      <th>9</th>\n",
              "      <td>TAX</td>\n",
              "      <td>-1.511581</td>\n",
              "      <td>-0.000000</td>\n",
              "      <td>-1.049880</td>\n",
              "      <td>-0.224970</td>\n",
              "    </tr>\n",
              "    <tr>\n",
              "      <th>10</th>\n",
              "      <td>PTRATIO</td>\n",
              "      <td>-2.254947</td>\n",
              "      <td>-1.231897</td>\n",
              "      <td>-2.152333</td>\n",
              "      <td>-1.333656</td>\n",
              "    </tr>\n",
              "    <tr>\n",
              "      <th>11</th>\n",
              "      <td>B</td>\n",
              "      <td>1.052925</td>\n",
              "      <td>0.172007</td>\n",
              "      <td>1.052698</td>\n",
              "      <td>0.590854</td>\n",
              "    </tr>\n",
              "    <tr>\n",
              "      <th>12</th>\n",
              "      <td>LSTAT</td>\n",
              "      <td>-4.139375</td>\n",
              "      <td>-3.480674</td>\n",
              "      <td>-3.949109</td>\n",
              "      <td>-2.496310</td>\n",
              "    </tr>\n",
              "    <tr>\n",
              "      <th>13</th>\n",
              "      <td>Noise_1</td>\n",
              "      <td>0.081789</td>\n",
              "      <td>0.000000</td>\n",
              "      <td>0.090695</td>\n",
              "      <td>0.000000</td>\n",
              "    </tr>\n",
              "    <tr>\n",
              "      <th>14</th>\n",
              "      <td>Noise_2</td>\n",
              "      <td>-0.160480</td>\n",
              "      <td>-0.000000</td>\n",
              "      <td>-0.151295</td>\n",
              "      <td>-0.000000</td>\n",
              "    </tr>\n",
              "    <tr>\n",
              "      <th>15</th>\n",
              "      <td>Noise_3</td>\n",
              "      <td>0.538867</td>\n",
              "      <td>0.000000</td>\n",
              "      <td>0.533086</td>\n",
              "      <td>0.000000</td>\n",
              "    </tr>\n",
              "    <tr>\n",
              "      <th>16</th>\n",
              "      <td>Noise_4</td>\n",
              "      <td>0.061524</td>\n",
              "      <td>0.000000</td>\n",
              "      <td>0.052229</td>\n",
              "      <td>0.000000</td>\n",
              "    </tr>\n",
              "    <tr>\n",
              "      <th>17</th>\n",
              "      <td>Noise_5</td>\n",
              "      <td>0.086850</td>\n",
              "      <td>0.000000</td>\n",
              "      <td>0.083671</td>\n",
              "      <td>0.000000</td>\n",
              "    </tr>\n",
              "  </tbody>\n",
              "</table>\n",
              "</div>"
            ],
            "text/plain": [
              "   Feature Name  Linear Regression     Lasso  Ridge Regression  Elastic Net\n",
              "0          CRIM          -0.181864 -0.000000         -0.143707    -0.000000\n",
              "1            ZN           0.719758  0.000000          0.601999     0.000000\n",
              "2         INDUS           0.182400 -0.000000          0.010853    -0.112192\n",
              "3          CHAS           0.991375  0.340719          1.013653     0.635905\n",
              "4           NOX          -1.983335 -0.000000         -1.670097    -0.202282\n",
              "5            RM           2.939940  3.075163          3.031790     2.618869\n",
              "6           AGE           0.290853 -0.000000          0.181255    -0.000000\n",
              "7           DIS          -2.752313 -0.000000         -2.490647    -0.014043\n",
              "8           RAD           2.191674 -0.000000          1.632138    -0.000000\n",
              "9           TAX          -1.511581 -0.000000         -1.049880    -0.224970\n",
              "10      PTRATIO          -2.254947 -1.231897         -2.152333    -1.333656\n",
              "11            B           1.052925  0.172007          1.052698     0.590854\n",
              "12        LSTAT          -4.139375 -3.480674         -3.949109    -2.496310\n",
              "13      Noise_1           0.081789  0.000000          0.090695     0.000000\n",
              "14      Noise_2          -0.160480 -0.000000         -0.151295    -0.000000\n",
              "15      Noise_3           0.538867  0.000000          0.533086     0.000000\n",
              "16      Noise_4           0.061524  0.000000          0.052229     0.000000\n",
              "17      Noise_5           0.086850  0.000000          0.083671     0.000000"
            ]
          },
          "metadata": {
            "tags": []
          },
          "execution_count": 19
        }
      ]
    },
    {
      "cell_type": "markdown",
      "metadata": {
        "id": "vCaYnamIP5eN"
      },
      "source": [
        "#### Decribe the results"
      ]
    },
    {
      "cell_type": "markdown",
      "metadata": {
        "id": "BJRGjHfBP5eN"
      },
      "source": [
        "- We can see that linear regression assigned non-zero values to all 5 of our noise features, despite none of them having any predictive power. Interestingly, these noise features have coefficients with magnitudes similar to some of the real features in the dataset.\n",
        "- As we hoped, Lasso did a good job of reducing all 5 of our noise features to 0, as well as many of the real features from the dataset. This is indeed a much simpler model than given by linear regression\n",
        "- Ridge Regression makes a similar mistake that unregularized linear regression, assigning coefficient values to our noise features. We also see some features have very small coefficients.\n",
        "- Much like Lasso, Elastic Net makes the coefficients of several features 0. It however does not make as many coefficients 0 as Lasso does."
      ]
    },
    {
      "cell_type": "markdown",
      "metadata": {
        "id": "68pMwN4BP5eO"
      },
      "source": [
        "### Compute the Model Scores"
      ]
    },
    {
      "cell_type": "code",
      "metadata": {
        "id": "1b310Fv7P5eO",
        "colab": {
          "base_uri": "https://localhost:8080/"
        },
        "outputId": "8518f6a1-ff5e-487b-f2ef-13b6b4204e28"
      },
      "source": [
        "# PUT YOUR CODE HERE\r\n",
        "from sklearn.metrics import r2_score\r\n",
        "for model in models:\r\n",
        "    r2 = r2_score(y_test, model[0].predict(X_test))\r\n",
        "    mse = mean_squared_error(y_test, model[0].predict(X_test))\r\n",
        "    print(model[1])\r\n",
        "    print(f\"r2 score of {model[1]}: {r2:.3f}\")\r\n",
        "    print(f\"Mean Squared Error of {model[1]}: {mse:.3f}\")\r\n",
        "    print(\"#--------------------------------------#\")"
      ],
      "execution_count": 20,
      "outputs": [
        {
          "output_type": "stream",
          "text": [
            "Linear Regression\n",
            "r2 score of Linear Regression: 0.664\n",
            "Mean Squared Error of Linear Regression: 23.668\n",
            "#--------------------------------------#\n",
            "Lasso\n",
            "r2 score of Lasso: 0.647\n",
            "Mean Squared Error of Lasso: 24.910\n",
            "#--------------------------------------#\n",
            "Ridge Regression\n",
            "r2 score of Ridge Regression: 0.664\n",
            "Mean Squared Error of Ridge Regression: 23.669\n",
            "#--------------------------------------#\n",
            "Elastic Net\n",
            "r2 score of Elastic Net: 0.651\n",
            "Mean Squared Error of Elastic Net: 24.626\n",
            "#--------------------------------------#\n"
          ],
          "name": "stdout"
        }
      ]
    },
    {
      "cell_type": "markdown",
      "metadata": {
        "id": "komlDuMgP5eO"
      },
      "source": [
        "This might seem counter-intuitive, but it is important to remember the ridge regression model traded some variance for bias, which ultimately lead to an overall smaller error. The Lasso and Elastic Net models traded a significant amount of variance for bias, and we see that our error has increased.\n",
        "Interestingly, Lasso and Elastic Net had a higher MSE than Linear Regression. But does that mean that these models are unequivocally worse? I would argue not, as the Lasso and Elastic Net models also performed feature selection, which gives us better interpretability of the models. Coefficients are interpreted as the change in dependent variable with a one unit increase in predictor value, with all other predictors held constant. In the case of complex models, the assumption of holding all other predictors constant cannot reasonably be met."
      ]
    },
    {
      "cell_type": "markdown",
      "metadata": {
        "id": "uGEyFZxRP5eP"
      },
      "source": [
        "### Alpha parameter:  Apply Lasso with different values of alpha and describe how the parameters scores change\n",
        "\n",
        "\n",
        "- Complete the function and apply it to the following values: [0, .0001, .5, 10]\n",
        "- Describe the results"
      ]
    },
    {
      "cell_type": "code",
      "metadata": {
        "id": "3d3m1027P5eP"
      },
      "source": [
        "names = names = X.columns\n",
        "\n",
        "# Create a function called lasso,\n",
        "def lasso(alphas):\n",
        "    '''\n",
        "    Takes in a list of alphas. Outputs a dataframe containing the coefficients of lasso regressions from each alpha.\n",
        "    '''\n",
        "    # Create an empty data frame\n",
        "    df = pd.DataFrame()\n",
        "    \n",
        "    # Create a column of feature names\n",
        "    df['Feature Name'] = names\n",
        "    \n",
        "    # For each alpha value in the list of alpha values,\n",
        "    for alpha in alphas:\n",
        "        # Create a lasso regression with that alpha value,\n",
        "\n",
        "        # ********************************************************\n",
        "        lasso = Lasso(alpha=alpha)# PUT YOUR CODE HERE  ********************************************************\n",
        "        # ********************************************************\n",
        "        \n",
        "        # Fit the lasso regression\n",
        "        lasso.fit(X_scaled, y)\n",
        "        \n",
        "        # Create a column name for that alpha value\n",
        "        column_name = 'Alpha = %f' % alpha\n",
        "\n",
        "        # Create a column of coefficient values\n",
        "        df[column_name] = lasso.coef_\n",
        "        \n",
        "    # Return the dataframe  \n",
        "    return df"
      ],
      "execution_count": 21,
      "outputs": []
    },
    {
      "cell_type": "code",
      "metadata": {
        "id": "BJPHSvw9P5eQ",
        "colab": {
          "base_uri": "https://localhost:8080/",
          "height": 691
        },
        "outputId": "e7a7b687-38f1-488a-aab9-1fc37c59730e"
      },
      "source": [
        "lasso([0, .0001, .5, 10])"
      ],
      "execution_count": 22,
      "outputs": [
        {
          "output_type": "stream",
          "text": [
            "/usr/local/lib/python3.6/dist-packages/ipykernel_launcher.py:23: UserWarning: With alpha=0, this algorithm does not converge well. You are advised to use the LinearRegression estimator\n",
            "/usr/local/lib/python3.6/dist-packages/sklearn/linear_model/_coordinate_descent.py:476: UserWarning: Coordinate descent with no regularization may lead to unexpected results and is discouraged.\n",
            "  positive)\n",
            "/usr/local/lib/python3.6/dist-packages/sklearn/linear_model/_coordinate_descent.py:476: ConvergenceWarning: Objective did not converge. You might want to increase the number of iterations. Duality gap: 5496.597972172951, tolerance: 4.2716295415019765\n",
            "  positive)\n"
          ],
          "name": "stderr"
        },
        {
          "output_type": "execute_result",
          "data": {
            "text/html": [
              "<div>\n",
              "<style scoped>\n",
              "    .dataframe tbody tr th:only-of-type {\n",
              "        vertical-align: middle;\n",
              "    }\n",
              "\n",
              "    .dataframe tbody tr th {\n",
              "        vertical-align: top;\n",
              "    }\n",
              "\n",
              "    .dataframe thead th {\n",
              "        text-align: right;\n",
              "    }\n",
              "</style>\n",
              "<table border=\"1\" class=\"dataframe\">\n",
              "  <thead>\n",
              "    <tr style=\"text-align: right;\">\n",
              "      <th></th>\n",
              "      <th>Feature Name</th>\n",
              "      <th>Alpha = 0.000000</th>\n",
              "      <th>Alpha = 0.000100</th>\n",
              "      <th>Alpha = 0.500000</th>\n",
              "      <th>Alpha = 10.000000</th>\n",
              "    </tr>\n",
              "  </thead>\n",
              "  <tbody>\n",
              "    <tr>\n",
              "      <th>0</th>\n",
              "      <td>CRIM</td>\n",
              "      <td>-0.924209</td>\n",
              "      <td>-0.923947</td>\n",
              "      <td>-0.115265</td>\n",
              "      <td>-0.0</td>\n",
              "    </tr>\n",
              "    <tr>\n",
              "      <th>1</th>\n",
              "      <td>ZN</td>\n",
              "      <td>1.047753</td>\n",
              "      <td>1.047271</td>\n",
              "      <td>0.000000</td>\n",
              "      <td>0.0</td>\n",
              "    </tr>\n",
              "    <tr>\n",
              "      <th>2</th>\n",
              "      <td>INDUS</td>\n",
              "      <td>0.095899</td>\n",
              "      <td>0.094962</td>\n",
              "      <td>-0.000000</td>\n",
              "      <td>-0.0</td>\n",
              "    </tr>\n",
              "    <tr>\n",
              "      <th>3</th>\n",
              "      <td>CHAS</td>\n",
              "      <td>0.643247</td>\n",
              "      <td>0.643294</td>\n",
              "      <td>0.397079</td>\n",
              "      <td>0.0</td>\n",
              "    </tr>\n",
              "    <tr>\n",
              "      <th>4</th>\n",
              "      <td>NOX</td>\n",
              "      <td>-2.016651</td>\n",
              "      <td>-2.015829</td>\n",
              "      <td>-0.000000</td>\n",
              "      <td>-0.0</td>\n",
              "    </tr>\n",
              "    <tr>\n",
              "      <th>5</th>\n",
              "      <td>RM</td>\n",
              "      <td>2.612921</td>\n",
              "      <td>2.613115</td>\n",
              "      <td>2.974259</td>\n",
              "      <td>0.0</td>\n",
              "    </tr>\n",
              "    <tr>\n",
              "      <th>6</th>\n",
              "      <td>AGE</td>\n",
              "      <td>0.069345</td>\n",
              "      <td>0.068888</td>\n",
              "      <td>-0.000000</td>\n",
              "      <td>-0.0</td>\n",
              "    </tr>\n",
              "    <tr>\n",
              "      <th>7</th>\n",
              "      <td>DIS</td>\n",
              "      <td>-3.063346</td>\n",
              "      <td>-3.062991</td>\n",
              "      <td>-0.170569</td>\n",
              "      <td>0.0</td>\n",
              "    </tr>\n",
              "    <tr>\n",
              "      <th>8</th>\n",
              "      <td>RAD</td>\n",
              "      <td>2.668965</td>\n",
              "      <td>2.667113</td>\n",
              "      <td>-0.000000</td>\n",
              "      <td>-0.0</td>\n",
              "    </tr>\n",
              "    <tr>\n",
              "      <th>9</th>\n",
              "      <td>TAX</td>\n",
              "      <td>-2.054845</td>\n",
              "      <td>-2.053013</td>\n",
              "      <td>-0.000000</td>\n",
              "      <td>-0.0</td>\n",
              "    </tr>\n",
              "    <tr>\n",
              "      <th>10</th>\n",
              "      <td>PTRATIO</td>\n",
              "      <td>-2.091031</td>\n",
              "      <td>-2.090782</td>\n",
              "      <td>-1.598449</td>\n",
              "      <td>-0.0</td>\n",
              "    </tr>\n",
              "    <tr>\n",
              "      <th>11</th>\n",
              "      <td>B</td>\n",
              "      <td>0.869201</td>\n",
              "      <td>0.869118</td>\n",
              "      <td>0.543139</td>\n",
              "      <td>0.0</td>\n",
              "    </tr>\n",
              "    <tr>\n",
              "      <th>12</th>\n",
              "      <td>LSTAT</td>\n",
              "      <td>-3.823261</td>\n",
              "      <td>-3.823036</td>\n",
              "      <td>-3.666144</td>\n",
              "      <td>-0.0</td>\n",
              "    </tr>\n",
              "    <tr>\n",
              "      <th>13</th>\n",
              "      <td>Noise_1</td>\n",
              "      <td>0.084308</td>\n",
              "      <td>0.084202</td>\n",
              "      <td>0.000000</td>\n",
              "      <td>0.0</td>\n",
              "    </tr>\n",
              "    <tr>\n",
              "      <th>14</th>\n",
              "      <td>Noise_2</td>\n",
              "      <td>-0.169847</td>\n",
              "      <td>-0.169704</td>\n",
              "      <td>-0.000000</td>\n",
              "      <td>0.0</td>\n",
              "    </tr>\n",
              "    <tr>\n",
              "      <th>15</th>\n",
              "      <td>Noise_3</td>\n",
              "      <td>0.381492</td>\n",
              "      <td>0.381408</td>\n",
              "      <td>0.000000</td>\n",
              "      <td>0.0</td>\n",
              "    </tr>\n",
              "    <tr>\n",
              "      <th>16</th>\n",
              "      <td>Noise_4</td>\n",
              "      <td>0.087387</td>\n",
              "      <td>0.087247</td>\n",
              "      <td>0.000000</td>\n",
              "      <td>0.0</td>\n",
              "    </tr>\n",
              "    <tr>\n",
              "      <th>17</th>\n",
              "      <td>Noise_5</td>\n",
              "      <td>-0.007713</td>\n",
              "      <td>-0.007627</td>\n",
              "      <td>0.000000</td>\n",
              "      <td>0.0</td>\n",
              "    </tr>\n",
              "  </tbody>\n",
              "</table>\n",
              "</div>"
            ],
            "text/plain": [
              "   Feature Name  Alpha = 0.000000  ...  Alpha = 0.500000  Alpha = 10.000000\n",
              "0          CRIM         -0.924209  ...         -0.115265               -0.0\n",
              "1            ZN          1.047753  ...          0.000000                0.0\n",
              "2         INDUS          0.095899  ...         -0.000000               -0.0\n",
              "3          CHAS          0.643247  ...          0.397079                0.0\n",
              "4           NOX         -2.016651  ...         -0.000000               -0.0\n",
              "5            RM          2.612921  ...          2.974259                0.0\n",
              "6           AGE          0.069345  ...         -0.000000               -0.0\n",
              "7           DIS         -3.063346  ...         -0.170569                0.0\n",
              "8           RAD          2.668965  ...         -0.000000               -0.0\n",
              "9           TAX         -2.054845  ...         -0.000000               -0.0\n",
              "10      PTRATIO         -2.091031  ...         -1.598449               -0.0\n",
              "11            B          0.869201  ...          0.543139                0.0\n",
              "12        LSTAT         -3.823261  ...         -3.666144               -0.0\n",
              "13      Noise_1          0.084308  ...          0.000000                0.0\n",
              "14      Noise_2         -0.169847  ...         -0.000000                0.0\n",
              "15      Noise_3          0.381492  ...          0.000000                0.0\n",
              "16      Noise_4          0.087387  ...          0.000000                0.0\n",
              "17      Noise_5         -0.007713  ...          0.000000                0.0\n",
              "\n",
              "[18 rows x 5 columns]"
            ]
          },
          "metadata": {
            "tags": []
          },
          "execution_count": 22
        }
      ]
    },
    {
      "cell_type": "markdown",
      "metadata": {
        "id": "f9mjD2LBP5eQ"
      },
      "source": [
        "#### Describe the above results"
      ]
    },
    {
      "cell_type": "markdown",
      "metadata": {
        "id": "Dbro_z5hbUs1"
      },
      "source": [
        "I can see that the higher we put the Value of Alpha the more shrinkage to the parameters because we are trading Bias with Variance.That is, because when alpha is 0, Lasso regression produces the same coefficients as a linear regression. When alpha is very very large, all coefficients are zero."
      ]
    },
    {
      "cell_type": "markdown",
      "metadata": {
        "id": "D3dtgTMjP5eR"
      },
      "source": [
        "### Apply Ridge with different values of alpha and describe how the parameters scores change\n",
        "- Complete the function and apply it to the following values: [0, .0001, .5, 10]\n",
        "- Describe the results"
      ]
    },
    {
      "cell_type": "code",
      "metadata": {
        "id": "BycXXJZoP5eR"
      },
      "source": [
        "names = names = X.columns\n",
        "\n",
        "# Create a function called lasso,\n",
        "def ridge(alphas):\n",
        "    '''\n",
        "    Takes in a list of alphas. Outputs a dataframe containing the coefficients of ridge regressions from each alpha.\n",
        "    '''\n",
        "    # Create an empty data frame\n",
        "    df = pd.DataFrame()\n",
        "    \n",
        "    # Create a column of feature names\n",
        "    df['Feature Name'] = names\n",
        "    \n",
        "    # For each alpha value in the list of alpha values,\n",
        "    for alpha in alphas:\n",
        "        # Create a Ridge regression with that alpha value,\n",
        "        \n",
        "        #********************************************************\n",
        "        ridge =Ridge(alpha=alpha) # PUT YOUR CODE HERE  ********************************************************\n",
        "        #********************************************************\n",
        "        \n",
        "        # Fit the lasso regression\n",
        "        ridge.fit(X_scaled, y)\n",
        "        \n",
        "        # Create a column name for that alpha value\n",
        "        column_name = 'Alpha = %f' % alpha\n",
        "\n",
        "        # Create a column of coefficient values\n",
        "        df[column_name] = ridge.coef_\n",
        "        \n",
        "    # Return the dataframe  \n",
        "    return df"
      ],
      "execution_count": null,
      "outputs": []
    },
    {
      "cell_type": "code",
      "metadata": {
        "id": "3XXSdX92P5eR",
        "colab": {
          "base_uri": "https://localhost:8080/",
          "height": 587
        },
        "outputId": "fc1f1608-f154-4ea7-e998-ce2018928a30"
      },
      "source": [
        "ridge([0, .00001, .5, 10])"
      ],
      "execution_count": null,
      "outputs": [
        {
          "output_type": "execute_result",
          "data": {
            "text/html": [
              "<div>\n",
              "<style scoped>\n",
              "    .dataframe tbody tr th:only-of-type {\n",
              "        vertical-align: middle;\n",
              "    }\n",
              "\n",
              "    .dataframe tbody tr th {\n",
              "        vertical-align: top;\n",
              "    }\n",
              "\n",
              "    .dataframe thead th {\n",
              "        text-align: right;\n",
              "    }\n",
              "</style>\n",
              "<table border=\"1\" class=\"dataframe\">\n",
              "  <thead>\n",
              "    <tr style=\"text-align: right;\">\n",
              "      <th></th>\n",
              "      <th>Feature Name</th>\n",
              "      <th>Alpha = 0.000000</th>\n",
              "      <th>Alpha = 0.000010</th>\n",
              "      <th>Alpha = 0.500000</th>\n",
              "      <th>Alpha = 10.000000</th>\n",
              "    </tr>\n",
              "  </thead>\n",
              "  <tbody>\n",
              "    <tr>\n",
              "      <th>0</th>\n",
              "      <td>CRIM</td>\n",
              "      <td>-0.892637</td>\n",
              "      <td>-0.892637</td>\n",
              "      <td>-0.888680</td>\n",
              "      <td>-0.827775</td>\n",
              "    </tr>\n",
              "    <tr>\n",
              "      <th>1</th>\n",
              "      <td>ZN</td>\n",
              "      <td>1.103815</td>\n",
              "      <td>1.103815</td>\n",
              "      <td>1.095802</td>\n",
              "      <td>0.971626</td>\n",
              "    </tr>\n",
              "    <tr>\n",
              "      <th>2</th>\n",
              "      <td>INDUS</td>\n",
              "      <td>0.216904</td>\n",
              "      <td>0.216904</td>\n",
              "      <td>0.203925</td>\n",
              "      <td>0.018355</td>\n",
              "    </tr>\n",
              "    <tr>\n",
              "      <th>3</th>\n",
              "      <td>CHAS</td>\n",
              "      <td>0.667240</td>\n",
              "      <td>0.667240</td>\n",
              "      <td>0.669025</td>\n",
              "      <td>0.694433</td>\n",
              "    </tr>\n",
              "    <tr>\n",
              "      <th>4</th>\n",
              "      <td>NOX</td>\n",
              "      <td>-2.125776</td>\n",
              "      <td>-2.125776</td>\n",
              "      <td>-2.111035</td>\n",
              "      <td>-1.868268</td>\n",
              "    </tr>\n",
              "    <tr>\n",
              "      <th>5</th>\n",
              "      <td>RM</td>\n",
              "      <td>2.685584</td>\n",
              "      <td>2.685584</td>\n",
              "      <td>2.690007</td>\n",
              "      <td>2.754775</td>\n",
              "    </tr>\n",
              "    <tr>\n",
              "      <th>6</th>\n",
              "      <td>AGE</td>\n",
              "      <td>-0.025806</td>\n",
              "      <td>-0.025806</td>\n",
              "      <td>-0.028544</td>\n",
              "      <td>-0.069939</td>\n",
              "    </tr>\n",
              "    <tr>\n",
              "      <th>7</th>\n",
              "      <td>DIS</td>\n",
              "      <td>-3.165217</td>\n",
              "      <td>-3.165216</td>\n",
              "      <td>-3.150968</td>\n",
              "      <td>-2.904112</td>\n",
              "    </tr>\n",
              "    <tr>\n",
              "      <th>8</th>\n",
              "      <td>RAD</td>\n",
              "      <td>2.689594</td>\n",
              "      <td>2.689593</td>\n",
              "      <td>2.652557</td>\n",
              "      <td>2.109431</td>\n",
              "    </tr>\n",
              "    <tr>\n",
              "      <th>9</th>\n",
              "      <td>TAX</td>\n",
              "      <td>-2.120891</td>\n",
              "      <td>-2.120890</td>\n",
              "      <td>-2.085692</td>\n",
              "      <td>-1.588480</td>\n",
              "    </tr>\n",
              "    <tr>\n",
              "      <th>10</th>\n",
              "      <td>PTRATIO</td>\n",
              "      <td>-2.092799</td>\n",
              "      <td>-2.092799</td>\n",
              "      <td>-2.088435</td>\n",
              "      <td>-2.015969</td>\n",
              "    </tr>\n",
              "    <tr>\n",
              "      <th>11</th>\n",
              "      <td>B</td>\n",
              "      <td>0.876770</td>\n",
              "      <td>0.876770</td>\n",
              "      <td>0.876393</td>\n",
              "      <td>0.869309</td>\n",
              "    </tr>\n",
              "    <tr>\n",
              "      <th>12</th>\n",
              "      <td>LSTAT</td>\n",
              "      <td>-3.745039</td>\n",
              "      <td>-3.745039</td>\n",
              "      <td>-3.738493</td>\n",
              "      <td>-3.624797</td>\n",
              "    </tr>\n",
              "    <tr>\n",
              "      <th>13</th>\n",
              "      <td>Noise_1</td>\n",
              "      <td>0.229440</td>\n",
              "      <td>0.229440</td>\n",
              "      <td>0.227140</td>\n",
              "      <td>0.191435</td>\n",
              "    </tr>\n",
              "    <tr>\n",
              "      <th>14</th>\n",
              "      <td>Noise_2</td>\n",
              "      <td>-0.198990</td>\n",
              "      <td>-0.198990</td>\n",
              "      <td>-0.199055</td>\n",
              "      <td>-0.197663</td>\n",
              "    </tr>\n",
              "    <tr>\n",
              "      <th>15</th>\n",
              "      <td>Noise_3</td>\n",
              "      <td>0.167810</td>\n",
              "      <td>0.167810</td>\n",
              "      <td>0.167040</td>\n",
              "      <td>0.152937</td>\n",
              "    </tr>\n",
              "    <tr>\n",
              "      <th>16</th>\n",
              "      <td>Noise_4</td>\n",
              "      <td>-0.066278</td>\n",
              "      <td>-0.066278</td>\n",
              "      <td>-0.065493</td>\n",
              "      <td>-0.052261</td>\n",
              "    </tr>\n",
              "    <tr>\n",
              "      <th>17</th>\n",
              "      <td>Noise_5</td>\n",
              "      <td>-0.102729</td>\n",
              "      <td>-0.102729</td>\n",
              "      <td>-0.101891</td>\n",
              "      <td>-0.090385</td>\n",
              "    </tr>\n",
              "  </tbody>\n",
              "</table>\n",
              "</div>"
            ],
            "text/plain": [
              "   Feature Name  Alpha = 0.000000  ...  Alpha = 0.500000  Alpha = 10.000000\n",
              "0          CRIM         -0.892637  ...         -0.888680          -0.827775\n",
              "1            ZN          1.103815  ...          1.095802           0.971626\n",
              "2         INDUS          0.216904  ...          0.203925           0.018355\n",
              "3          CHAS          0.667240  ...          0.669025           0.694433\n",
              "4           NOX         -2.125776  ...         -2.111035          -1.868268\n",
              "5            RM          2.685584  ...          2.690007           2.754775\n",
              "6           AGE         -0.025806  ...         -0.028544          -0.069939\n",
              "7           DIS         -3.165217  ...         -3.150968          -2.904112\n",
              "8           RAD          2.689594  ...          2.652557           2.109431\n",
              "9           TAX         -2.120891  ...         -2.085692          -1.588480\n",
              "10      PTRATIO         -2.092799  ...         -2.088435          -2.015969\n",
              "11            B          0.876770  ...          0.876393           0.869309\n",
              "12        LSTAT         -3.745039  ...         -3.738493          -3.624797\n",
              "13      Noise_1          0.229440  ...          0.227140           0.191435\n",
              "14      Noise_2         -0.198990  ...         -0.199055          -0.197663\n",
              "15      Noise_3          0.167810  ...          0.167040           0.152937\n",
              "16      Noise_4         -0.066278  ...         -0.065493          -0.052261\n",
              "17      Noise_5         -0.102729  ...         -0.101891          -0.090385\n",
              "\n",
              "[18 rows x 5 columns]"
            ]
          },
          "metadata": {
            "tags": []
          },
          "execution_count": 19
        }
      ]
    },
    {
      "cell_type": "markdown",
      "metadata": {
        "id": "htviX3D9P5eS"
      },
      "source": [
        "In practice, we will not manually look for the best alpha coefficient. Both in Lasso and ridge regression, the alpha is a hyperparameter. Therefore, we will find the best one via crossvalidation. Fortunately, sklearn has a function that performs CV to find the optimal alpha automatically. "
      ]
    },
    {
      "cell_type": "code",
      "metadata": {
        "id": "uRFc3rLAP5eT",
        "colab": {
          "base_uri": "https://localhost:8080/"
        },
        "outputId": "4cb4e826-9df7-444a-9289-c60c6806cf3a"
      },
      "source": [
        "from sklearn.linear_model import LassoCV\n",
        "\n",
        "reg = LassoCV(max_iter = 5000, cv = 20, normalize=True).fit(X_train, y_train)\n",
        "reg.alpha_"
      ],
      "execution_count": null,
      "outputs": [
        {
          "output_type": "execute_result",
          "data": {
            "text/plain": [
              "0.002896696192593113"
            ]
          },
          "metadata": {
            "tags": []
          },
          "execution_count": 20
        }
      ]
    },
    {
      "cell_type": "markdown",
      "metadata": {
        "id": "GvRF6hAadSHF"
      },
      "source": [
        " If Alpha is close to zero, the Ridge term itself is very small and thus the final error is based on RSS alone. If Alpha is too large, the impact of shrinkage grows and the coefficients tends to zero.\r\n",
        " for larger alpha, the flexibility of the fit would be very strict."
      ]
    },
    {
      "cell_type": "code",
      "metadata": {
        "id": "B9iMJpLBP5eT"
      },
      "source": [
        ""
      ],
      "execution_count": null,
      "outputs": []
    }
  ]
}